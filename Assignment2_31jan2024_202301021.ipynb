{
  "cells": [
    {
      "cell_type": "markdown",
      "metadata": {
        "id": "view-in-github",
        "colab_type": "text"
      },
      "source": [
        "<a href=\"https://colab.research.google.com/github/Harmangill30/Big-Data/blob/main/Assignment2_31jan2024_202301021.ipynb\" target=\"_parent\"><img src=\"https://colab.research.google.com/assets/colab-badge.svg\" alt=\"Open In Colab\"/></a>"
      ]
    },
    {
      "cell_type": "code",
      "execution_count": null,
      "metadata": {
        "colab": {
          "base_uri": "https://localhost:8080/"
        },
        "id": "VhHo-PHwSlyQ",
        "outputId": "8c131b1e-e43e-43c0-9ec9-08ca70ee14db"
      },
      "outputs": [
        {
          "name": "stdout",
          "output_type": "stream",
          "text": [
            "[5 4 6 3 2 1]\n"
          ]
        }
      ],
      "source": [
        "import numpy as np\n",
        "a=np.array([1,2,3,6,4,5])\n",
        "print(np.flip(a))\n",
        "\n"
      ]
    },
    {
      "cell_type": "code",
      "execution_count": null,
      "metadata": {
        "colab": {
          "base_uri": "https://localhost:8080/"
        },
        "id": "cal0L3RrTfVX",
        "outputId": "ccba5177-7b27-4462-a69c-f27fe4f119b9"
      },
      "outputs": [
        {
          "name": "stdout",
          "output_type": "stream",
          "text": [
            "[[ True  True]\n",
            " [ True  True]]\n"
          ]
        }
      ],
      "source": [
        "b=np.array([[1,2],[3,4]])\n",
        "c=np.array([[1,2],[3,4]])\n",
        "print(b==c)\n"
      ]
    },
    {
      "cell_type": "code",
      "execution_count": 13,
      "metadata": {
        "colab": {
          "base_uri": "https://localhost:8080/"
        },
        "id": "yzv7iWMoTu98",
        "outputId": "d910b679-974a-426f-f5af-9e63d3e123ba"
      },
      "outputs": [
        {
          "output_type": "stream",
          "name": "stdout",
          "text": [
            "the most frequent value in  first array is : 1\n",
            "the index of most frequent values of first array are (array([0, 5, 7, 8, 9]),)\n",
            "the most frequent value in  second array is : 1\n",
            "the index of most frequent values of second array are (array([0, 1, 2]),)\n"
          ]
        }
      ],
      "source": [
        "x = np.array([1,2,3,4,5,1,2,1,1,1])\n",
        "y = np.array([1,1,1, 2, 3, 4, 2, 4, 3, 3])\n",
        "print(f\"The most frequent value in  first array is : {np.bincount(x).argmax()}\")\n",
        "print(f\"The index of most frequent values of first array are {np.where(x==(np.bincount(x).argmax()))}\")\n",
        "print(f\"The most frequent value in  second array is : {np.bincount(y).argmax()}\")\n",
        "print(f\"The index of most frequent values of second array are {np.where(y==(np.bincount(y).argmax()))}\")"
      ]
    },
    {
      "cell_type": "code",
      "execution_count": 9,
      "metadata": {
        "colab": {
          "base_uri": "https://localhost:8080/"
        },
        "id": "WXY3nDpgsJfU",
        "outputId": "c7673011-6d0e-466f-af1f-c4ee1ee26724"
      },
      "outputs": [
        {
          "output_type": "stream",
          "name": "stdout",
          "text": [
            "[[ 4  1  9]\n",
            " [12  3  1]\n",
            " [ 4  5  6]]\n",
            "The sum of matrix is 45\n",
            "The sum of all rows are [[14]\n",
            " [16]\n",
            " [15]]\n",
            "The sum of all columns  are [[20  9 16]]\n"
          ]
        }
      ],
      "source": [
        "x = np.matrix(\"[4, 1, 9; 12, 3, 1; 4, 5, 6]\")\n",
        "print(x)\n",
        "print(f\"The sum of matrix is {np.sum(x)}\")\n",
        "print(f\"The sum of all rows are {x.sum(axis=1)}\")\n",
        "print(f\"The sum of all columns  are {x.sum(axis=0)}\")"
      ]
    }
  ],
  "metadata": {
    "colab": {
      "provenance": [],
      "authorship_tag": "ABX9TyO2AJ9DXl23SEGxSWoVAHDO",
      "include_colab_link": true
    },
    "kernelspec": {
      "display_name": "Python 3",
      "name": "python3"
    },
    "language_info": {
      "name": "python"
    }
  },
  "nbformat": 4,
  "nbformat_minor": 0
}